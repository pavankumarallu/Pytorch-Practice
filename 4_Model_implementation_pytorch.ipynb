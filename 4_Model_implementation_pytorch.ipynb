{
  "nbformat": 4,
  "nbformat_minor": 0,
  "metadata": {
    "colab": {
      "provenance": [],
      "authorship_tag": "ABX9TyOKQA7WLz+qknCv62F64QZd",
      "include_colab_link": true
    },
    "kernelspec": {
      "name": "python3",
      "display_name": "Python 3"
    },
    "language_info": {
      "name": "python"
    },
    "accelerator": "GPU",
    "gpuClass": "standard"
  },
  "cells": [
    {
      "cell_type": "markdown",
      "metadata": {
        "id": "view-in-github",
        "colab_type": "text"
      },
      "source": [
        "<a href=\"https://colab.research.google.com/github/pavankumarallu/Pytorch-Practice/blob/main/4_Model_implementation_pytorch.ipynb\" target=\"_parent\"><img src=\"https://colab.research.google.com/assets/colab-badge.svg\" alt=\"Open In Colab\"/></a>"
      ]
    },
    {
      "cell_type": "markdown",
      "source": [
        "# Model Implementation"
      ],
      "metadata": {
        "id": "aIhDTlnjGZT7"
      }
    },
    {
      "cell_type": "markdown",
      "source": [
        "\n",
        "* Design Model with parameters input, out size, forward pass\n",
        "* Construct loss and optimizer\n",
        "* Training loop\n",
        "  - forward pass : compute prediction\n",
        "  - backward pass : gradients\n",
        "  - update weights\n"
      ],
      "metadata": {
        "id": "tmWW2HWEF1zx"
      }
    },
    {
      "cell_type": "code",
      "execution_count": 4,
      "metadata": {
        "id": "kZ29yINOFFXU"
      },
      "outputs": [],
      "source": [
        "import torch\n",
        "import torch.nn as nn"
      ]
    },
    {
      "cell_type": "code",
      "source": [
        "X = torch.tensor([[1],[2],[3],[4],[5],[6]], dtype = torch.float32)\n",
        "Y = torch.tensor([[300],[600],[900],[1200],[1500],[1800]],dtype = torch.float32)\n",
        "\n",
        "X_test = torch.tensor([5],dtype = torch.float32)\n",
        "\n",
        "n_samples,n_features = X.shape\n",
        "print(n_samples,n_features)\n",
        "\n",
        "input_size = n_features\n",
        "output_size = n_features\n",
        "\n",
        "model = nn.Linear(input_size,output_size)\n",
        "\n",
        "\n",
        "\n",
        "print(f'Prediction before training: f(5) = {model(X_test).item():.3f}')"
      ],
      "metadata": {
        "colab": {
          "base_uri": "https://localhost:8080/"
        },
        "id": "VWVEHi4vGhpa",
        "outputId": "81832180-a99c-4505-d455-9fbfd5439368"
      },
      "execution_count": 10,
      "outputs": [
        {
          "output_type": "stream",
          "name": "stdout",
          "text": [
            "6 1\n",
            "Prediction before training: f(5) = 2.393\n"
          ]
        }
      ]
    },
    {
      "cell_type": "code",
      "source": [
        "learning_rate = 0.01\n",
        "n_iters = 50\n",
        "loss = nn.MSELoss()\n",
        "optimizer = torch.optim.SGD(model.parameters(),lr = learning_rate)\n",
        "\n",
        "for epoch in range(n_iters):\n",
        "  y_pred = model(X)\n",
        "  l = loss(Y,y_pred)\n",
        "  l.backward()\n",
        "  optimizer.step()\n",
        "  optimizer.zero_grad()\n",
        "\n",
        "  [w,b] = model.parameters()\n",
        "  print(f'epoch {epoch+1} : w = {w[0][0].item()}')\n",
        "\n",
        "print(f'Prediction after training: f(25) = {model(X_test).item():.3f}')"
      ],
      "metadata": {
        "colab": {
          "base_uri": "https://localhost:8080/"
        },
        "id": "Mx9ZRdb6HYtw",
        "outputId": "80bdbf4f-3dc9-4251-b056-9410d4e3dcd3"
      },
      "execution_count": 16,
      "outputs": [
        {
          "output_type": "stream",
          "name": "stdout",
          "text": [
            "epoch 1 : w = 291.23309326171875\n",
            "epoch 2 : w = 291.26507568359375\n",
            "epoch 3 : w = 291.2969665527344\n",
            "epoch 4 : w = 291.3287353515625\n",
            "epoch 5 : w = 291.3603820800781\n",
            "epoch 6 : w = 291.39190673828125\n",
            "epoch 7 : w = 291.4233093261719\n",
            "epoch 8 : w = 291.4546203613281\n",
            "epoch 9 : w = 291.4858093261719\n",
            "epoch 10 : w = 291.5168762207031\n",
            "epoch 11 : w = 291.5478210449219\n",
            "epoch 12 : w = 291.57867431640625\n",
            "epoch 13 : w = 291.6094055175781\n",
            "epoch 14 : w = 291.6400146484375\n",
            "epoch 15 : w = 291.6705322265625\n",
            "epoch 16 : w = 291.700927734375\n",
            "epoch 17 : w = 291.7312316894531\n",
            "epoch 18 : w = 291.76141357421875\n",
            "epoch 19 : w = 291.7914733886719\n",
            "epoch 20 : w = 291.8214416503906\n",
            "epoch 21 : w = 291.8512878417969\n",
            "epoch 22 : w = 291.8810119628906\n",
            "epoch 23 : w = 291.91064453125\n",
            "epoch 24 : w = 291.9401550292969\n",
            "epoch 25 : w = 291.9695739746094\n",
            "epoch 26 : w = 291.9988708496094\n",
            "epoch 27 : w = 292.028076171875\n",
            "epoch 28 : w = 292.0571594238281\n",
            "epoch 29 : w = 292.0861511230469\n",
            "epoch 30 : w = 292.1150207519531\n",
            "epoch 31 : w = 292.143798828125\n",
            "epoch 32 : w = 292.1724853515625\n",
            "epoch 33 : w = 292.2010498046875\n",
            "epoch 34 : w = 292.2295227050781\n",
            "epoch 35 : w = 292.25787353515625\n",
            "epoch 36 : w = 292.2861328125\n",
            "epoch 37 : w = 292.31427001953125\n",
            "epoch 38 : w = 292.3423156738281\n",
            "epoch 39 : w = 292.3702697753906\n",
            "epoch 40 : w = 292.3981018066406\n",
            "epoch 41 : w = 292.42584228515625\n",
            "epoch 42 : w = 292.4534912109375\n",
            "epoch 43 : w = 292.48101806640625\n",
            "epoch 44 : w = 292.5084533691406\n",
            "epoch 45 : w = 292.5357971191406\n",
            "epoch 46 : w = 292.56304931640625\n",
            "epoch 47 : w = 292.5902099609375\n",
            "epoch 48 : w = 292.61724853515625\n",
            "epoch 49 : w = 292.6441955566406\n",
            "epoch 50 : w = 292.6710510253906\n",
            "Prediction after training: f(25) = 1494.732\n"
          ]
        }
      ]
    },
    {
      "cell_type": "code",
      "source": [],
      "metadata": {
        "id": "f31CMifAJEm2"
      },
      "execution_count": null,
      "outputs": []
    }
  ]
}