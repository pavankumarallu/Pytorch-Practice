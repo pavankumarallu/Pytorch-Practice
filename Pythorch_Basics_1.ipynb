{
  "nbformat": 4,
  "nbformat_minor": 0,
  "metadata": {
    "colab": {
      "provenance": [],
      "authorship_tag": "ABX9TyOzdW4+pXCoYkfMLHU6pCWi",
      "include_colab_link": true
    },
    "kernelspec": {
      "name": "python3",
      "display_name": "Python 3"
    },
    "language_info": {
      "name": "python"
    },
    "accelerator": "GPU",
    "gpuClass": "standard"
  },
  "cells": [
    {
      "cell_type": "markdown",
      "metadata": {
        "id": "view-in-github",
        "colab_type": "text"
      },
      "source": [
        "<a href=\"https://colab.research.google.com/github/pavankumarallu/Pytorch-Practice/blob/main/Pythorch_Basics_1.ipynb\" target=\"_parent\"><img src=\"https://colab.research.google.com/assets/colab-badge.svg\" alt=\"Open In Colab\"/></a>"
      ]
    },
    {
      "cell_type": "code",
      "execution_count": null,
      "metadata": {
        "id": "0vtcxP5GK0Qi"
      },
      "outputs": [],
      "source": [
        "import torch"
      ]
    },
    {
      "cell_type": "code",
      "source": [
        "#create an empty tensor\n",
        "x = torch.empty(3,2,2,3)\n",
        "print(x)"
      ],
      "metadata": {
        "colab": {
          "base_uri": "https://localhost:8080/"
        },
        "id": "ToQAUVCWLfE-",
        "outputId": "341ef40d-f1b4-4712-ac0c-5d2cf3d58e37"
      },
      "execution_count": null,
      "outputs": [
        {
          "output_type": "stream",
          "name": "stdout",
          "text": [
            "tensor([[[[ 5.0466e-35,  0.0000e+00,  0.0000e+00],\n",
            "          [ 0.0000e+00,  1.4013e-45,  0.0000e+00]],\n",
            "\n",
            "         [[ 5.2085e-38,  0.0000e+00,  7.5225e-35],\n",
            "          [ 0.0000e+00,  0.0000e+00,  0.0000e+00]]],\n",
            "\n",
            "\n",
            "        [[[ 7.6310e-35,  0.0000e+00,  4.1801e-36],\n",
            "          [ 0.0000e+00, -9.0845e-18,  4.5667e-41]],\n",
            "\n",
            "         [[ 2.8026e-45,  0.0000e+00,  2.8026e-45],\n",
            "          [ 0.0000e+00,  4.2039e-45,  0.0000e+00]]],\n",
            "\n",
            "\n",
            "        [[[ 0.0000e+00,  0.0000e+00,  0.0000e+00],\n",
            "          [ 0.0000e+00,  0.0000e+00,  0.0000e+00]],\n",
            "\n",
            "         [[ 4.2039e-45,  0.0000e+00,  1.4013e-45],\n",
            "          [ 0.0000e+00,  0.0000e+00,  0.0000e+00]]]])\n"
          ]
        }
      ]
    },
    {
      "cell_type": "code",
      "source": [
        "#create random values\n",
        "x = torch.rand(2,2)\n",
        "x"
      ],
      "metadata": {
        "colab": {
          "base_uri": "https://localhost:8080/"
        },
        "id": "JbJbryPMLytW",
        "outputId": "cef9f8ad-35a4-4055-8571-44085e76d3ff"
      },
      "execution_count": null,
      "outputs": [
        {
          "output_type": "execute_result",
          "data": {
            "text/plain": [
              "tensor([[0.2392, 0.3538],\n",
              "        [0.5269, 0.8504]])"
            ]
          },
          "metadata": {},
          "execution_count": 7
        }
      ]
    },
    {
      "cell_type": "code",
      "source": [
        "#zeroes and ones\n",
        "x0 = torch.zeros(2,2)\n",
        "x1 = torch.ones(2,2)\n",
        "x0,x1"
      ],
      "metadata": {
        "colab": {
          "base_uri": "https://localhost:8080/"
        },
        "id": "xJuyz_WcMOpJ",
        "outputId": "8abfefa2-8a10-40bf-d263-cfdd6fe5fcdd"
      },
      "execution_count": null,
      "outputs": [
        {
          "output_type": "execute_result",
          "data": {
            "text/plain": [
              "(tensor([[0., 0.],\n",
              "         [0., 0.]]), tensor([[1., 1.],\n",
              "         [1., 1.]]))"
            ]
          },
          "metadata": {},
          "execution_count": 9
        }
      ]
    },
    {
      "cell_type": "code",
      "source": [
        "x = torch.tensor([2.5,0.1])\n",
        "x"
      ],
      "metadata": {
        "colab": {
          "base_uri": "https://localhost:8080/"
        },
        "id": "ICQ77k72Mazy",
        "outputId": "e42939b9-8d44-4d1d-cb06-179c60b5e092"
      },
      "execution_count": null,
      "outputs": [
        {
          "output_type": "execute_result",
          "data": {
            "text/plain": [
              "tensor([2.5000, 0.1000])"
            ]
          },
          "metadata": {},
          "execution_count": 10
        }
      ]
    },
    {
      "cell_type": "code",
      "source": [
        "#operations on tensors\n",
        "x = torch.rand(2,2)\n",
        "y = torch.rand(2,2)\n",
        "z = torch.add(x,y)\n",
        "aa = torch.sub(x,y)\n",
        "ab = torch.mul(x,y)\n",
        "ac = torch.div(x,y)\n",
        "z,aa,ab,ac"
      ],
      "metadata": {
        "colab": {
          "base_uri": "https://localhost:8080/"
        },
        "id": "Af5MM19yOfXK",
        "outputId": "9c17ce43-ef86-4395-f916-6e6e51d0e5f3"
      },
      "execution_count": null,
      "outputs": [
        {
          "output_type": "execute_result",
          "data": {
            "text/plain": [
              "(tensor([[0.7897, 1.6286],\n",
              "         [1.2915, 0.6763]]), tensor([[ 0.7754, -0.2915],\n",
              "         [-0.1874, -0.5495]]), tensor([[0.0056, 0.6418],\n",
              "         [0.4082, 0.0389]]), tensor([[1.0942e+02, 6.9636e-01],\n",
              "         [7.4656e-01, 1.0348e-01]]))"
            ]
          },
          "metadata": {},
          "execution_count": 12
        }
      ]
    },
    {
      "cell_type": "code",
      "source": [
        "#tensor slicing\n",
        "x = torch.rand(5,3)\n",
        "print(x)\n",
        "print(x[0,0])"
      ],
      "metadata": {
        "colab": {
          "base_uri": "https://localhost:8080/"
        },
        "id": "OzM4CKYkOzVS",
        "outputId": "c94403b3-af59-4681-fc41-4ab16d160589"
      },
      "execution_count": null,
      "outputs": [
        {
          "output_type": "stream",
          "name": "stdout",
          "text": [
            "tensor([[0.2400, 0.5637, 0.8100],\n",
            "        [0.8852, 0.0768, 0.3928],\n",
            "        [0.9256, 0.7459, 0.9455],\n",
            "        [0.4503, 0.1432, 0.2723],\n",
            "        [0.3187, 0.0447, 0.5611]])\n",
            "tensor(0.2400)\n"
          ]
        }
      ]
    },
    {
      "cell_type": "code",
      "source": [
        "#reshaping a tensor\n",
        "x = torch.rand(4,4)\n",
        "print(x)\n",
        "y = x.view(-1,2)\n",
        "print(y)"
      ],
      "metadata": {
        "colab": {
          "base_uri": "https://localhost:8080/"
        },
        "id": "rJJ_T3w3PX8Q",
        "outputId": "85f43cfc-7889-4ca9-eeac-3e939680b876"
      },
      "execution_count": null,
      "outputs": [
        {
          "output_type": "stream",
          "name": "stdout",
          "text": [
            "tensor([[0.4257, 0.7602, 0.6407, 0.0302],\n",
            "        [0.7093, 0.2287, 0.3653, 0.6125],\n",
            "        [0.2204, 0.4665, 0.8589, 0.4242],\n",
            "        [0.8684, 0.3051, 0.3203, 0.6372]])\n",
            "tensor([[0.4257, 0.7602],\n",
            "        [0.6407, 0.0302],\n",
            "        [0.7093, 0.2287],\n",
            "        [0.3653, 0.6125],\n",
            "        [0.2204, 0.4665],\n",
            "        [0.8589, 0.4242],\n",
            "        [0.8684, 0.3051],\n",
            "        [0.3203, 0.6372]])\n"
          ]
        }
      ]
    },
    {
      "cell_type": "code",
      "source": [
        "#numpy array to tensor\n",
        "import numpy as np\n",
        "\n",
        "a = np.ones(5)\n",
        "print(a)\n",
        "b = torch.from_numpy(a)\n",
        "print(b)"
      ],
      "metadata": {
        "colab": {
          "base_uri": "https://localhost:8080/"
        },
        "id": "dCs4VpcLPuRp",
        "outputId": "b5ebe6b0-aa87-444f-80ba-f7f16811d042"
      },
      "execution_count": null,
      "outputs": [
        {
          "output_type": "stream",
          "name": "stdout",
          "text": [
            "[1. 1. 1. 1. 1.]\n",
            "tensor([1., 1., 1., 1., 1.], dtype=torch.float64)\n"
          ]
        }
      ]
    },
    {
      "cell_type": "code",
      "source": [
        "# calculates gradients in future\n",
        "x = torch.ones(2,requires_grad=True)\n",
        "print(x)"
      ],
      "metadata": {
        "colab": {
          "base_uri": "https://localhost:8080/"
        },
        "id": "1E5u-fs-QSnJ",
        "outputId": "2ab826db-90d4-484b-9945-43277fea3b55"
      },
      "execution_count": null,
      "outputs": [
        {
          "output_type": "stream",
          "name": "stdout",
          "text": [
            "tensor([1., 1.], requires_grad=True)\n"
          ]
        }
      ]
    }
  ]
}