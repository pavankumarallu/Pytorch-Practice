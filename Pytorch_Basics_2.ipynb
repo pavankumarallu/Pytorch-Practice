{
  "nbformat": 4,
  "nbformat_minor": 0,
  "metadata": {
    "colab": {
      "provenance": [],
      "authorship_tag": "ABX9TyPVU+gHKoNDbfRv4XqXE63f",
      "include_colab_link": true
    },
    "kernelspec": {
      "name": "python3",
      "display_name": "Python 3"
    },
    "language_info": {
      "name": "python"
    },
    "accelerator": "GPU",
    "gpuClass": "standard"
  },
  "cells": [
    {
      "cell_type": "markdown",
      "metadata": {
        "id": "view-in-github",
        "colab_type": "text"
      },
      "source": [
        "<a href=\"https://colab.research.google.com/github/pavankumarallu/Pytorch-Practice/blob/main/Pytorch_Basics_2.ipynb\" target=\"_parent\"><img src=\"https://colab.research.google.com/assets/colab-badge.svg\" alt=\"Open In Colab\"/></a>"
      ]
    },
    {
      "cell_type": "markdown",
      "source": [
        "# Autograd package - Pytorch\n",
        "* Calculate gradients using Autograd package pytorch"
      ],
      "metadata": {
        "id": "LNvvXWwuRkkC"
      }
    },
    {
      "cell_type": "code",
      "execution_count": 2,
      "metadata": {
        "id": "774_41H6RPly"
      },
      "outputs": [],
      "source": [
        "import torch"
      ]
    },
    {
      "cell_type": "code",
      "source": [
        "x = torch.rand(3, requires_grad = True)\n",
        "print(x)"
      ],
      "metadata": {
        "colab": {
          "base_uri": "https://localhost:8080/"
        },
        "id": "uiCbtnABR8-9",
        "outputId": "39a65b88-4ea9-45f7-84c9-ecfa30237562"
      },
      "execution_count": 41,
      "outputs": [
        {
          "output_type": "stream",
          "name": "stdout",
          "text": [
            "tensor([0.1936, 0.6933, 0.5776], requires_grad=True)\n"
          ]
        }
      ]
    },
    {
      "cell_type": "code",
      "source": [
        "#if output is a sclar quantitu\n",
        "y = x + 2\n",
        "print(y)\n",
        "\n",
        "y = y**2\n",
        "y = y.mean()\n",
        "print(y)\n",
        "\n",
        "y.backward(retain_graph=True)\n",
        "print(x.grad)"
      ],
      "metadata": {
        "colab": {
          "base_uri": "https://localhost:8080/"
        },
        "id": "C-6IRgoaSQdC",
        "outputId": "0892f8a0-a0dd-461f-d334-db35ebad8234"
      },
      "execution_count": 45,
      "outputs": [
        {
          "output_type": "stream",
          "name": "stdout",
          "text": [
            "tensor([2.1936, 2.6933, 2.5776], grad_fn=<AddBackward0>)\n",
            "tensor(6.2365, grad_fn=<MeanBackward0>)\n",
            "tensor([2.9248, 3.5910, 3.4368])\n"
          ]
        }
      ]
    },
    {
      "cell_type": "code",
      "source": [
        "#if output is not a scalar\n",
        "y = x + 2\n",
        "y = y**2\n",
        "v  =torch.tensor([0.1,0.1,0.001],dtype=torch.float)\n",
        "y.backward(v)\n",
        "print(x.grad)"
      ],
      "metadata": {
        "colab": {
          "base_uri": "https://localhost:8080/"
        },
        "id": "ywm61jaJUkN1",
        "outputId": "bdd28251-6204-4f93-bb52-f2c655e66ecc"
      },
      "execution_count": 52,
      "outputs": [
        {
          "output_type": "stream",
          "name": "stdout",
          "text": [
            "tensor([4.2409, 5.2070, 3.4523])\n"
          ]
        }
      ]
    },
    {
      "cell_type": "code",
      "source": [
        "#training example\n",
        "\n",
        "weights = torch.rand(4 , requires_grad=True)\n",
        "print(weights)\n",
        "for epoch in range(12):\n",
        "  model_output = (weights*3).sum()\n",
        "  model_output.backward()\n",
        "  print(weights.grad)"
      ],
      "metadata": {
        "colab": {
          "base_uri": "https://localhost:8080/"
        },
        "id": "raJ3VUEEWydw",
        "outputId": "c2d215d8-ff5f-4654-da55-6b775b70d6ac"
      },
      "execution_count": 58,
      "outputs": [
        {
          "output_type": "stream",
          "name": "stdout",
          "text": [
            "tensor([0.2886, 0.9366, 0.4006, 0.7748], requires_grad=True)\n",
            "tensor([3., 3., 3., 3.])\n",
            "tensor([6., 6., 6., 6.])\n",
            "tensor([9., 9., 9., 9.])\n",
            "tensor([12., 12., 12., 12.])\n",
            "tensor([15., 15., 15., 15.])\n",
            "tensor([18., 18., 18., 18.])\n",
            "tensor([21., 21., 21., 21.])\n",
            "tensor([24., 24., 24., 24.])\n",
            "tensor([27., 27., 27., 27.])\n",
            "tensor([30., 30., 30., 30.])\n",
            "tensor([33., 33., 33., 33.])\n",
            "tensor([36., 36., 36., 36.])\n"
          ]
        }
      ]
    },
    {
      "cell_type": "code",
      "source": [],
      "metadata": {
        "id": "O7y5X6aTX5cM"
      },
      "execution_count": null,
      "outputs": []
    }
  ]
}